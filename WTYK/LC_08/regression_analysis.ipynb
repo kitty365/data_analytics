{
 "cells": [
  {
   "cell_type": "markdown",
   "metadata": {},
   "source": [
    "# Regression analysis"
   ]
  },
  {
   "cell_type": "markdown",
   "metadata": {},
   "source": [
    "## Libraries and settings"
   ]
  },
  {
   "cell_type": "code",
   "execution_count": 71,
   "metadata": {},
   "outputs": [
    {
     "name": "stdout",
     "output_type": "stream",
     "text": [
      "/workspaces/data_analytics/WTYK/LC_08\n"
     ]
    }
   ],
   "source": [
    "# Libraries\n",
    "import os\n",
    "import numpy as np\n",
    "import pandas as pd\n",
    "import scipy.stats as stats\n",
    "import statsmodels.api as sm\n",
    "import matplotlib.pyplot as plt\n",
    "from sklearn import linear_model\n",
    "from sklearn.metrics import r2_score\n",
    "from sklearn.datasets import make_regression\n",
    "from sklearn.ensemble import RandomForestRegressor\n",
    "from sklearn.model_selection import train_test_split\n",
    "\n",
    "# Ignore warnings\n",
    "import warnings\n",
    "warnings.filterwarnings('ignore')\n",
    "\n",
    "# Show current working directory\n",
    "print(os.getcwd())"
   ]
  },
  {
   "cell_type": "markdown",
   "metadata": {},
   "source": [
    "## Import car data"
   ]
  },
  {
   "cell_type": "code",
   "execution_count": 72,
   "metadata": {},
   "outputs": [
    {
     "name": "stdout",
     "output_type": "stream",
     "text": [
      "(2845, 8)\n"
     ]
    },
    {
     "data": {
      "text/html": [
       "<div>\n",
       "<style scoped>\n",
       "    .dataframe tbody tr th:only-of-type {\n",
       "        vertical-align: middle;\n",
       "    }\n",
       "\n",
       "    .dataframe tbody tr th {\n",
       "        vertical-align: top;\n",
       "    }\n",
       "\n",
       "    .dataframe thead th {\n",
       "        text-align: right;\n",
       "    }\n",
       "</style>\n",
       "<table border=\"1\" class=\"dataframe\">\n",
       "  <thead>\n",
       "    <tr style=\"text-align: right;\">\n",
       "      <th></th>\n",
       "      <th>Offer_Id</th>\n",
       "      <th>Fuel_Type</th>\n",
       "      <th>Transmission</th>\n",
       "      <th>Make</th>\n",
       "      <th>Mileage</th>\n",
       "      <th>HP</th>\n",
       "      <th>Price</th>\n",
       "      <th>Year</th>\n",
       "    </tr>\n",
       "  </thead>\n",
       "  <tbody>\n",
       "    <tr>\n",
       "      <th>0</th>\n",
       "      <td>7324420</td>\n",
       "      <td>Diesel</td>\n",
       "      <td>Automatisiertes Schaltgetriebe</td>\n",
       "      <td>AUDI</td>\n",
       "      <td>75000</td>\n",
       "      <td>245</td>\n",
       "      <td>22500</td>\n",
       "      <td>2014</td>\n",
       "    </tr>\n",
       "    <tr>\n",
       "      <th>1</th>\n",
       "      <td>7512768</td>\n",
       "      <td>Benzin</td>\n",
       "      <td>Automat sequentiell</td>\n",
       "      <td>MERCEDES-BENZ</td>\n",
       "      <td>46655</td>\n",
       "      <td>184</td>\n",
       "      <td>23749</td>\n",
       "      <td>2013</td>\n",
       "    </tr>\n",
       "    <tr>\n",
       "      <th>2</th>\n",
       "      <td>7512034</td>\n",
       "      <td>Benzin</td>\n",
       "      <td>Automat sequentiell</td>\n",
       "      <td>MERCEDES-BENZ</td>\n",
       "      <td>138955</td>\n",
       "      <td>306</td>\n",
       "      <td>18500</td>\n",
       "      <td>2011</td>\n",
       "    </tr>\n",
       "    <tr>\n",
       "      <th>3</th>\n",
       "      <td>7512728</td>\n",
       "      <td>Benzin</td>\n",
       "      <td>Automatisiertes Schaltgetriebe</td>\n",
       "      <td>MERCEDES-BENZ</td>\n",
       "      <td>43000</td>\n",
       "      <td>360</td>\n",
       "      <td>36000</td>\n",
       "      <td>2015</td>\n",
       "    </tr>\n",
       "    <tr>\n",
       "      <th>4</th>\n",
       "      <td>7490242</td>\n",
       "      <td>Benzin</td>\n",
       "      <td>Automatisiertes Schaltgetriebe</td>\n",
       "      <td>AUDI</td>\n",
       "      <td>43300</td>\n",
       "      <td>252</td>\n",
       "      <td>48500</td>\n",
       "      <td>2018</td>\n",
       "    </tr>\n",
       "  </tbody>\n",
       "</table>\n",
       "</div>"
      ],
      "text/plain": [
       "   Offer_Id Fuel_Type                    Transmission           Make  Mileage  \\\n",
       "0   7324420    Diesel  Automatisiertes Schaltgetriebe           AUDI    75000   \n",
       "1   7512768    Benzin             Automat sequentiell  MERCEDES-BENZ    46655   \n",
       "2   7512034    Benzin             Automat sequentiell  MERCEDES-BENZ   138955   \n",
       "3   7512728    Benzin  Automatisiertes Schaltgetriebe  MERCEDES-BENZ    43000   \n",
       "4   7490242    Benzin  Automatisiertes Schaltgetriebe           AUDI    43300   \n",
       "\n",
       "    HP  Price  Year  \n",
       "0  245  22500  2014  \n",
       "1  184  23749  2013  \n",
       "2  306  18500  2011  \n",
       "3  360  36000  2015  \n",
       "4  252  48500  2018  "
      ]
     },
     "execution_count": 72,
     "metadata": {},
     "output_type": "execute_result"
    }
   ],
   "source": [
    "# Columns\n",
    "columns = ['Offer_Id', \n",
    "           'Price_num', \n",
    "           'Mileage_num',\n",
    "           'HP_num', \n",
    "           'Make',\n",
    "           'Fuel_Type', \n",
    "           'Transmission', \n",
    "           'Init_Regist_MY']\n",
    "\n",
    "# Read the data\n",
    "df_orig = pd.read_csv('autoscout24_data_prepared.csv', \n",
    "                      sep=\",\", \n",
    "                      encoding='utf-8',\n",
    "                      usecols=columns)\n",
    "\n",
    "# Rename variable 'web-scraper-order' to 'apmt_id'\n",
    "df_orig = df_orig.rename(columns={'Mileage_num': 'Mileage',\n",
    "                                  'HP_num': 'HP',\n",
    "                                  'Price_num': 'Price'})\n",
    "\n",
    "# Extract year from 'Init_Regist_MY' weil es ein String ist\n",
    "df_orig['Init_Regist_MY'] = df_orig['Init_Regist_MY'].astype(str)\n",
    "df_orig['Year'] = df_orig['Init_Regist_MY'].str.split('.').str[1].astype(int)\n",
    "df_orig.drop('Init_Regist_MY', axis=1, inplace=True)\n",
    "\n",
    "# Remove missing values\n",
    "df = df_orig.dropna()\n",
    "df.head(5)\n",
    "\n",
    "# Remove duplicates\n",
    "df = df.drop_duplicates()\n",
    "df.head(5)\n",
    "\n",
    "# Remove some extreme prices; keep only fuel type 'Diesel' and 'Benzin' um die Datenmenge zu reduzieren\n",
    "df = df.loc[(df['Price'] >= 10000) & (df['Price'] <= 100000) & (df['Fuel_Type'].isin(['Diesel','Benzin']))]\n",
    "\n",
    "# Show dimensions (rows and columns)\n",
    "print(df.shape)\n",
    "\n",
    "# Show the data\n",
    "df.head()\n"
   ]
  },
  {
   "cell_type": "markdown",
   "metadata": {},
   "source": [
    "target ist preis, wir können jahr und mileage nutzen, es werden für jedes eine neue kategorie in der Tabelle, Beispiel Benzin und Diesel -> welches Auto =  0 und 1"
   ]
  },
  {
   "cell_type": "markdown",
   "metadata": {},
   "source": [
    "## One-hot encoding of categorical variables"
   ]
  },
  {
   "cell_type": "code",
   "execution_count": 73,
   "metadata": {},
   "outputs": [
    {
     "data": {
      "text/html": [
       "<div>\n",
       "<style scoped>\n",
       "    .dataframe tbody tr th:only-of-type {\n",
       "        vertical-align: middle;\n",
       "    }\n",
       "\n",
       "    .dataframe tbody tr th {\n",
       "        vertical-align: top;\n",
       "    }\n",
       "\n",
       "    .dataframe thead th {\n",
       "        text-align: right;\n",
       "    }\n",
       "</style>\n",
       "<table border=\"1\" class=\"dataframe\">\n",
       "  <thead>\n",
       "    <tr style=\"text-align: right;\">\n",
       "      <th></th>\n",
       "      <th>Offer_Id</th>\n",
       "      <th>Fuel_Type</th>\n",
       "      <th>Transmission</th>\n",
       "      <th>Make</th>\n",
       "      <th>Mileage</th>\n",
       "      <th>HP</th>\n",
       "      <th>Price</th>\n",
       "      <th>Year</th>\n",
       "      <th>Benzin</th>\n",
       "      <th>Diesel</th>\n",
       "    </tr>\n",
       "  </thead>\n",
       "  <tbody>\n",
       "    <tr>\n",
       "      <th>0</th>\n",
       "      <td>7324420</td>\n",
       "      <td>Diesel</td>\n",
       "      <td>Automatisiertes Schaltgetriebe</td>\n",
       "      <td>AUDI</td>\n",
       "      <td>75000</td>\n",
       "      <td>245</td>\n",
       "      <td>22500</td>\n",
       "      <td>2014</td>\n",
       "      <td>0</td>\n",
       "      <td>1</td>\n",
       "    </tr>\n",
       "    <tr>\n",
       "      <th>1</th>\n",
       "      <td>7512768</td>\n",
       "      <td>Benzin</td>\n",
       "      <td>Automat sequentiell</td>\n",
       "      <td>MERCEDES-BENZ</td>\n",
       "      <td>46655</td>\n",
       "      <td>184</td>\n",
       "      <td>23749</td>\n",
       "      <td>2013</td>\n",
       "      <td>1</td>\n",
       "      <td>0</td>\n",
       "    </tr>\n",
       "    <tr>\n",
       "      <th>2</th>\n",
       "      <td>7512034</td>\n",
       "      <td>Benzin</td>\n",
       "      <td>Automat sequentiell</td>\n",
       "      <td>MERCEDES-BENZ</td>\n",
       "      <td>138955</td>\n",
       "      <td>306</td>\n",
       "      <td>18500</td>\n",
       "      <td>2011</td>\n",
       "      <td>1</td>\n",
       "      <td>0</td>\n",
       "    </tr>\n",
       "    <tr>\n",
       "      <th>3</th>\n",
       "      <td>7512728</td>\n",
       "      <td>Benzin</td>\n",
       "      <td>Automatisiertes Schaltgetriebe</td>\n",
       "      <td>MERCEDES-BENZ</td>\n",
       "      <td>43000</td>\n",
       "      <td>360</td>\n",
       "      <td>36000</td>\n",
       "      <td>2015</td>\n",
       "      <td>1</td>\n",
       "      <td>0</td>\n",
       "    </tr>\n",
       "    <tr>\n",
       "      <th>4</th>\n",
       "      <td>7490242</td>\n",
       "      <td>Benzin</td>\n",
       "      <td>Automatisiertes Schaltgetriebe</td>\n",
       "      <td>AUDI</td>\n",
       "      <td>43300</td>\n",
       "      <td>252</td>\n",
       "      <td>48500</td>\n",
       "      <td>2018</td>\n",
       "      <td>1</td>\n",
       "      <td>0</td>\n",
       "    </tr>\n",
       "    <tr>\n",
       "      <th>...</th>\n",
       "      <td>...</td>\n",
       "      <td>...</td>\n",
       "      <td>...</td>\n",
       "      <td>...</td>\n",
       "      <td>...</td>\n",
       "      <td>...</td>\n",
       "      <td>...</td>\n",
       "      <td>...</td>\n",
       "      <td>...</td>\n",
       "      <td>...</td>\n",
       "    </tr>\n",
       "    <tr>\n",
       "      <th>3964</th>\n",
       "      <td>6058456</td>\n",
       "      <td>Benzin</td>\n",
       "      <td>Automat</td>\n",
       "      <td>BENTLEY</td>\n",
       "      <td>26200</td>\n",
       "      <td>405</td>\n",
       "      <td>38500</td>\n",
       "      <td>2001</td>\n",
       "      <td>1</td>\n",
       "      <td>0</td>\n",
       "    </tr>\n",
       "    <tr>\n",
       "      <th>3966</th>\n",
       "      <td>7137137</td>\n",
       "      <td>Benzin</td>\n",
       "      <td>Automatisiertes Schaltgetriebe</td>\n",
       "      <td>FERRARI</td>\n",
       "      <td>78000</td>\n",
       "      <td>400</td>\n",
       "      <td>58400</td>\n",
       "      <td>2002</td>\n",
       "      <td>1</td>\n",
       "      <td>0</td>\n",
       "    </tr>\n",
       "    <tr>\n",
       "      <th>3967</th>\n",
       "      <td>6758841</td>\n",
       "      <td>Benzin</td>\n",
       "      <td>Automatik-Getriebe</td>\n",
       "      <td>MERCEDES-BENZ</td>\n",
       "      <td>315000</td>\n",
       "      <td>232</td>\n",
       "      <td>15900</td>\n",
       "      <td>1987</td>\n",
       "      <td>1</td>\n",
       "      <td>0</td>\n",
       "    </tr>\n",
       "    <tr>\n",
       "      <th>3968</th>\n",
       "      <td>7461330</td>\n",
       "      <td>Benzin</td>\n",
       "      <td>Automat sequentiell</td>\n",
       "      <td>MERCEDES-BENZ</td>\n",
       "      <td>85000</td>\n",
       "      <td>525</td>\n",
       "      <td>42000</td>\n",
       "      <td>2007</td>\n",
       "      <td>1</td>\n",
       "      <td>0</td>\n",
       "    </tr>\n",
       "    <tr>\n",
       "      <th>3970</th>\n",
       "      <td>7200843</td>\n",
       "      <td>Benzin</td>\n",
       "      <td>Schaltgetriebe manuell</td>\n",
       "      <td>BMW</td>\n",
       "      <td>134000</td>\n",
       "      <td>193</td>\n",
       "      <td>13500</td>\n",
       "      <td>1999</td>\n",
       "      <td>1</td>\n",
       "      <td>0</td>\n",
       "    </tr>\n",
       "  </tbody>\n",
       "</table>\n",
       "<p>2845 rows × 10 columns</p>\n",
       "</div>"
      ],
      "text/plain": [
       "      Offer_Id Fuel_Type                    Transmission           Make  \\\n",
       "0      7324420    Diesel  Automatisiertes Schaltgetriebe           AUDI   \n",
       "1      7512768    Benzin             Automat sequentiell  MERCEDES-BENZ   \n",
       "2      7512034    Benzin             Automat sequentiell  MERCEDES-BENZ   \n",
       "3      7512728    Benzin  Automatisiertes Schaltgetriebe  MERCEDES-BENZ   \n",
       "4      7490242    Benzin  Automatisiertes Schaltgetriebe           AUDI   \n",
       "...        ...       ...                             ...            ...   \n",
       "3964   6058456    Benzin                         Automat        BENTLEY   \n",
       "3966   7137137    Benzin  Automatisiertes Schaltgetriebe        FERRARI   \n",
       "3967   6758841    Benzin              Automatik-Getriebe  MERCEDES-BENZ   \n",
       "3968   7461330    Benzin             Automat sequentiell  MERCEDES-BENZ   \n",
       "3970   7200843    Benzin          Schaltgetriebe manuell            BMW   \n",
       "\n",
       "      Mileage   HP  Price  Year  Benzin  Diesel  \n",
       "0       75000  245  22500  2014       0       1  \n",
       "1       46655  184  23749  2013       1       0  \n",
       "2      138955  306  18500  2011       1       0  \n",
       "3       43000  360  36000  2015       1       0  \n",
       "4       43300  252  48500  2018       1       0  \n",
       "...       ...  ...    ...   ...     ...     ...  \n",
       "3964    26200  405  38500  2001       1       0  \n",
       "3966    78000  400  58400  2002       1       0  \n",
       "3967   315000  232  15900  1987       1       0  \n",
       "3968    85000  525  42000  2007       1       0  \n",
       "3970   134000  193  13500  1999       1       0  \n",
       "\n",
       "[2845 rows x 10 columns]"
      ]
     },
     "execution_count": 73,
     "metadata": {},
     "output_type": "execute_result"
    }
   ],
   "source": [
    "# Perform one-hot encoding on the 'Fuel_Type' column using the get_dummies() function\n",
    "one_hot_encoded = pd.get_dummies(df['Fuel_Type']).astype(int)\n",
    "\n",
    "# Concatenate the new one-hot encoded columns with the original DataFrame\n",
    "df = pd.concat([df, one_hot_encoded], axis=1)\n",
    "df"
   ]
  },
  {
   "cell_type": "markdown",
   "metadata": {},
   "source": [
    "## Create train and test samples (train = 80%, test = 20% of the data)"
   ]
  },
  {
   "cell_type": "code",
   "execution_count": 74,
   "metadata": {},
   "outputs": [
    {
     "name": "stdout",
     "output_type": "stream",
     "text": [
      "      Mileage   HP  Diesel  Benzin\n",
      "968     64000  136       1       0\n",
      "3914   205000  400       0       1\n",
      "3068    52700  211       0       1\n",
      "1047   270000  258       1       0\n",
      "2700    39000  105       0       1\n",
      "...       ...  ...     ...     ...\n",
      "2251    17000  230       0       1\n",
      "1464    52000  258       1       0\n",
      "1518    14000  125       0       1\n",
      "1764    75500  280       0       1\n",
      "1147    45800  400       0       1\n",
      "\n",
      "[2276 rows x 4 columns]\n",
      "      Mileage   HP  Diesel  Benzin\n",
      "968     64000  136       1       0\n",
      "3914   205000  400       0       1\n",
      "3068    52700  211       0       1\n",
      "1047   270000  258       1       0\n",
      "2700    39000  105       0       1 \n",
      "\n",
      "968     22900\n",
      "3914    19500\n",
      "3068    15900\n",
      "1047    28000\n",
      "2700    10900\n",
      "        ...  \n",
      "2251    29900\n",
      "1464    54900\n",
      "1518    15900\n",
      "1764    21900\n",
      "1147    53800\n",
      "Name: Price, Length: 2276, dtype: int64\n",
      "968     22900\n",
      "3914    19500\n",
      "3068    15900\n",
      "1047    28000\n",
      "2700    10900\n",
      "Name: Price, dtype: int64\n"
     ]
    }
   ],
   "source": [
    "# Create train and test samples\n",
    "x_train, x_test, y_train, y_test = train_test_split (df[['Mileage', 'HP', 'Diesel', 'Benzin']], \n",
    "                                                     df['Price'],\n",
    "                                                     test_size=0.2, random_state=42)\n",
    "\n",
    "# Show X_train\n",
    "print(x_train)\n",
    "print(x_train.head(), '\\n')\n",
    "\n",
    "# Show y_train\n",
    "print(y_train)\n",
    "print(y_train.head())"
   ]
  },
  {
   "cell_type": "markdown",
   "metadata": {},
   "source": [
    "## Multiple linear regression"
   ]
  },
  {
   "cell_type": "code",
   "execution_count": 75,
   "metadata": {},
   "outputs": [
    {
     "name": "stdout",
     "output_type": "stream",
     "text": [
      "                            OLS Regression Results                            \n",
      "==============================================================================\n",
      "Dep. Variable:                  Price   R-squared:                       0.490\n",
      "Model:                            OLS   Adj. R-squared:                  0.490\n",
      "Method:                 Least Squares   F-statistic:                     728.6\n",
      "Date:                Tue, 05 Nov 2024   Prob (F-statistic):               0.00\n",
      "Time:                        08:29:49   Log-Likelihood:                -24798.\n",
      "No. Observations:                2276   AIC:                         4.960e+04\n",
      "Df Residuals:                    2272   BIC:                         4.963e+04\n",
      "Df Model:                           3                                         \n",
      "Covariance Type:            nonrobust                                         \n",
      "==============================================================================\n",
      "                 coef    std err          t      P>|t|      [0.025      0.975]\n",
      "------------------------------------------------------------------------------\n",
      "const       1.191e+04    523.055     22.761      0.000    1.09e+04    1.29e+04\n",
      "Mileage       -0.1520      0.005    -29.057      0.000      -0.162      -0.142\n",
      "HP           102.9066      2.630     39.133      0.000      97.750     108.063\n",
      "Diesel      9139.2601    392.299     23.297      0.000    8369.958    9908.562\n",
      "Benzin      2766.1426    413.302      6.693      0.000    1955.655    3576.631\n",
      "==============================================================================\n",
      "Omnibus:                      617.578   Durbin-Watson:                   2.006\n",
      "Prob(Omnibus):                  0.000   Jarque-Bera (JB):             1778.383\n",
      "Skew:                           1.398   Prob(JB):                         0.00\n",
      "Kurtosis:                       6.307   Cond. No.                     4.88e+20\n",
      "==============================================================================\n",
      "\n",
      "Notes:\n",
      "[1] Standard Errors assume that the covariance matrix of the errors is correctly specified.\n",
      "[2] The smallest eigenvalue is 8.92e-29. This might indicate that there are\n",
      "strong multicollinearity problems or that the design matrix is singular.\n"
     ]
    }
   ],
   "source": [
    "# Add constant to the model\n",
    "x_train_constant = sm.add_constant(x_train)\n",
    "\n",
    "# Create the multiple regression model using the Ordinary Least Squares (OLS) method\n",
    "model = sm.OLS(y_train, x_train_constant).fit()\n",
    "\n",
    "# Print full model output\n",
    "print(model.summary())"
   ]
  },
  {
   "cell_type": "markdown",
   "metadata": {},
   "source": [
    "### Plot histogram of multiple linear regression residuals"
   ]
  },
  {
   "cell_type": "code",
   "execution_count": 76,
   "metadata": {},
   "outputs": [
    {
     "data": {
      "image/png": "[encoded data removed]",
      "text/plain": [
       "<Figure size 600x400 with 1 Axes>"
      ]
     },
     "metadata": {},
     "output_type": "display_data"
    }
   ],
   "source": [
    "# Plot histogram of residuals\n",
    "fig = plt.figure(figsize=(6, 4))\n",
    "n, bins, patches = plt.hist(model.resid, bins=50, alpha=0.7)\n",
    "\n",
    "# Set axes labels and plot title\n",
    "plt.xlabel('Residuals')\n",
    "plt.ylabel('Frequency')\n",
    "plt.title('Histogram of Residuals')\n",
    "\n",
    "# Show the plot\n",
    "plt.show()"
   ]
  },
  {
   "cell_type": "markdown",
   "metadata": {},
   "source": [
    "a bit right skewed, man könnte es verbessern"
   ]
  },
  {
   "cell_type": "markdown",
   "metadata": {},
   "source": [
    "## Random forest regression"
   ]
  },
  {
   "cell_type": "markdown",
   "metadata": {},
   "source": [
    "### Fit Random forest regression model"
   ]
  },
  {
   "cell_type": "code",
   "execution_count": 77,
   "metadata": {},
   "outputs": [
    {
     "name": "stdout",
     "output_type": "stream",
     "text": [
      "R-squared: 0.4764\n"
     ]
    }
   ],
   "source": [
    "# Initialize the random forest regressor\n",
    "reg_rf = RandomForestRegressor(n_estimators=100, max_depth= 20,  random_state=42)\n",
    "\n",
    "\n",
    "# Fit the model\n",
    "reg_rf.fit(x_train, y_train)\n",
    "\n",
    "\n",
    "# Calculate coefficient of determination (R-squared), round to 4 decimal places with f-string formatting\n",
    "r2 = r2_score(y_test, reg_rf.predict(x_test))\n",
    "print(f'R-squared: {r2:.4f}')"
   ]
  },
  {
   "cell_type": "markdown",
   "metadata": {},
   "source": [
    "jetzt gabs die verbesserung im vergleich zu oben"
   ]
  },
  {
   "cell_type": "markdown",
   "metadata": {},
   "source": [
    "### Plot histogram of random forest regression residuals"
   ]
  },
  {
   "cell_type": "code",
   "execution_count": 78,
   "metadata": {},
   "outputs": [],
   "source": [
    "# Calculate residuals\n",
    "\n",
    "\n",
    "# Calculate residuals by subtracting actual target values from predicted values\n",
    "\n",
    "\n",
    "# Plot histogram of residuals\n",
    "\n"
   ]
  },
  {
   "cell_type": "markdown",
   "metadata": {},
   "source": [
    "### Show feature importance"
   ]
  },
  {
   "cell_type": "code",
   "execution_count": 79,
   "metadata": {},
   "outputs": [],
   "source": [
    "# Get column names of X_train\n",
    "\n",
    "\n",
    "# Derive feature importance from random forest\n",
    "\n",
    "\n",
    "# Print col-names and importances-values\n",
    "\n",
    "\n",
    "# Barplot with feature importance\n"
   ]
  },
  {
   "cell_type": "markdown",
   "metadata": {},
   "source": [
    "### Jupyter notebook --footer info-- (please always provide this at the end of each submitted notebook)"
   ]
  },
  {
   "cell_type": "code",
   "execution_count": 80,
   "metadata": {},
   "outputs": [
    {
     "name": "stdout",
     "output_type": "stream",
     "text": [
      "-----------------------------------\n",
      "POSIX\n",
      "Linux | 6.5.0-1025-azure\n",
      "Datetime: 2024-11-05 08:29:50\n",
      "Python Version: 3.11.10\n",
      "-----------------------------------\n"
     ]
    }
   ],
   "source": [
    "import os\n",
    "import platform\n",
    "import socket\n",
    "from platform import python_version\n",
    "from datetime import datetime\n",
    "\n",
    "print('-----------------------------------')\n",
    "print(os.name.upper())\n",
    "print(platform.system(), '|', platform.release())\n",
    "print('Datetime:', datetime.now().strftime(\"%Y-%m-%d %H:%M:%S\"))\n",
    "print('Python Version:', python_version())\n",
    "print('-----------------------------------')"
   ]
  }
 ],
 "metadata": {
  "kernelspec": {
   "display_name": "Python 3",
   "language": "python",
   "name": "python3"
  },
  "language_info": {
   "codemirror_mode": {
    "name": "ipython",
    "version": 3
   },
   "file_extension": ".py",
   "mimetype": "text/x-python",
   "name": "python",
   "nbconvert_exporter": "python",
   "pygments_lexer": "ipython3",
   "version": "3.11.10"
  }
 },
 "nbformat": 4,
 "nbformat_minor": 2
}
